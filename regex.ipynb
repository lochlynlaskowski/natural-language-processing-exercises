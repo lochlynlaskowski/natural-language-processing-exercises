{
 "cells": [
  {
   "cell_type": "code",
   "execution_count": 1,
   "id": "24c52415",
   "metadata": {},
   "outputs": [],
   "source": [
    "import re\n",
    "import pandas as pd"
   ]
  },
  {
   "cell_type": "markdown",
   "id": "72d0445e",
   "metadata": {},
   "source": [
    "### Write a function named is_vowel. It should accept a string as input and use a regular expression to determine if the passed string is a vowel. While not explicity mentioned in the lesson, you can treat the result of re.search as a boolean value that indicates whether or not the regular expression matches the given string."
   ]
  },
  {
   "cell_type": "code",
   "execution_count": 12,
   "id": "b18f7e5d",
   "metadata": {},
   "outputs": [],
   "source": [
    "def is_vowel(string):\n",
    "    if re.search(r\"[aeiou]\", string, re.IGNORECASE) == None:\n",
    "        return False\n",
    "    else:\n",
    "        return True"
   ]
  },
  {
   "cell_type": "code",
   "execution_count": 33,
   "id": "9bbf1354",
   "metadata": {},
   "outputs": [
    {
     "data": {
      "text/plain": [
       "(True, False)"
      ]
     },
     "execution_count": 33,
     "metadata": {},
     "output_type": "execute_result"
    }
   ],
   "source": [
    "is_vowel('A'), is_vowel('b')"
   ]
  },
  {
   "cell_type": "markdown",
   "id": "00725056",
   "metadata": {},
   "source": [
    "### Write a function named is_valid_username that accepts a string as input. A valid username starts with a lowercase letter, and only consists of lowercase letters, numbers, or the _ character. It should also be no longer than 32 characters. The function should return either True or False depending on whether the passed string is a valid username."
   ]
  },
  {
   "cell_type": "code",
   "execution_count": 19,
   "id": "6f2bb939",
   "metadata": {},
   "outputs": [],
   "source": [
    "def is_valid_username(string):\n",
    "    if re.search(r\"^[a-z]\\w{31}$\", string) == None:\n",
    "        return False\n",
    "    else:\n",
    "        return True"
   ]
  },
  {
   "cell_type": "code",
   "execution_count": 25,
   "id": "4ac3319b",
   "metadata": {},
   "outputs": [
    {
     "data": {
      "text/plain": [
       "(False, False, True)"
      ]
     },
     "execution_count": 25,
     "metadata": {},
     "output_type": "execute_result"
    }
   ],
   "source": [
    "is_valid_username('Thomas61'), is_valid_username('qwertyuiopasdfghjklzxcvbnmqwertyuio123'), is_valid_username('qwertyuiopasdfghjklzxcvbnmqwerty')"
   ]
  },
  {
   "cell_type": "markdown",
   "id": "73389483",
   "metadata": {},
   "source": [
    "### Write a regular expression to capture phone numbers. It should match all of the following:\n",
    "(210) 867 5309\n",
    "+1 210.867.5309\n",
    "867-5309\n",
    "210-867-5309"
   ]
  },
  {
   "cell_type": "code",
   "execution_count": 34,
   "id": "767d40a9",
   "metadata": {},
   "outputs": [],
   "source": [
    "def valid_phone(string):\n",
    "    if re.search(r\"(\\+?\\d+)?.?(\\(?\\d{3}\\)?)?.?\\d{3}.?\\d{4}\", string) == None:\n",
    "        return False\n",
    "    else:\n",
    "        return True"
   ]
  },
  {
   "cell_type": "code",
   "execution_count": 37,
   "id": "e60b3de9",
   "metadata": {},
   "outputs": [
    {
     "data": {
      "text/plain": [
       "(True, True)"
      ]
     },
     "execution_count": 37,
     "metadata": {},
     "output_type": "execute_result"
    }
   ],
   "source": [
    "valid_phone('210-867-5309'), valid_phone('+1 210.867.5309')"
   ]
  },
  {
   "cell_type": "markdown",
   "id": "a5995069",
   "metadata": {},
   "source": [
    "### Use regular expressions to convert the dates below to the standardized year-month-day format.\n",
    "\n",
    "\n",
    "02/04/19\n",
    "02/05/19\n",
    "02/06/19\n",
    "02/07/19\n",
    "02/08/19\n",
    "02/09/19\n",
    "02/10/19"
   ]
  },
  {
   "cell_type": "code",
   "execution_count": 38,
   "id": "1c71a608",
   "metadata": {},
   "outputs": [
    {
     "data": {
      "text/plain": [
       "['02/04/19',\n",
       " '02/05/19',\n",
       " '02/06/19',\n",
       " '02/07/19',\n",
       " '02/08/19',\n",
       " '02/09/19',\n",
       " '02/10/19']"
      ]
     },
     "execution_count": 38,
     "metadata": {},
     "output_type": "execute_result"
    }
   ],
   "source": [
    "date_list =['02/04/19',\n",
    "            '02/05/19',\n",
    "            '02/06/19',\n",
    "            '02/07/19',\n",
    "            '02/08/19',\n",
    "            '02/09/19',\n",
    "            '02/10/19']\n",
    "date_list"
   ]
  },
  {
   "cell_type": "code",
   "execution_count": 40,
   "id": "66190089",
   "metadata": {},
   "outputs": [],
   "source": [
    "dates=pd.Series(date_list)"
   ]
  },
  {
   "cell_type": "code",
   "execution_count": 42,
   "id": "03447573",
   "metadata": {},
   "outputs": [
    {
     "data": {
      "text/plain": [
       "0    2019-02-04\n",
       "1    2019-02-05\n",
       "2    2019-02-06\n",
       "3    2019-02-07\n",
       "4    2019-02-08\n",
       "5    2019-02-09\n",
       "6    2019-02-10\n",
       "dtype: object"
      ]
     },
     "execution_count": 42,
     "metadata": {},
     "output_type": "execute_result"
    }
   ],
   "source": [
    "dates.str.replace(r'(\\d{2})/(\\d{2})/(\\d{2})', r'20\\3-\\1-\\2',regex=True)"
   ]
  },
  {
   "cell_type": "markdown",
   "id": "21dde34c",
   "metadata": {},
   "source": [
    "### Write a regex to extract the various parts of these logfile lines:\n",
    "GET /api/v1/sales?page=86 [16/Apr/2019:193452+0000] HTTP/1.1 {200} 510348 \"python-requests/2.21.0\" 97.105.19.58\n",
    "POST /users_accounts/file-upload [16/Apr/2019:193452+0000] HTTP/1.1 {201} 42 \"User-Agent: Mozilla/5.0 (X11; Fedora; Fedora; Linux x86_64) AppleWebKit/537.36 (KHTML, like Gecko) Chrome/73.0.3683.86 Safari/537.36\" 97.105.19.58\n",
    "GET /api/v1/items?page=3 [16/Apr/2019:193453+0000] HTTP/1.1 {429} 3561 \"python-requests/2.21.0\" 97.105.19.58\n"
   ]
  },
  {
   "cell_type": "code",
   "execution_count": 44,
   "id": "3fe0772e",
   "metadata": {},
   "outputs": [],
   "source": [
    "logfile_re=r'(GET|POST)\\s+(.*?)\\s+\\[.*?\\]\\s+(.*?)\\s+\\{(\\d+)\\}\\s+(\\d+)\\s+\\\"(.*)\\\"\\s+(.*)$'"
   ]
  },
  {
   "cell_type": "code",
   "execution_count": 47,
   "id": "f80d5833",
   "metadata": {},
   "outputs": [],
   "source": [
    "logfile_re = r'''\n",
    "^(?P<method>GET|POST)\n",
    "\\s+\n",
    "(?P<path>.*?)\n",
    "\\s+\n",
    "\\[(?P<timestamp>.*?)\\]\n",
    "\\s+\n",
    "(?P<http_version>.*?)\n",
    "\\s+\n",
    "\\{(?P<status>\\d+)\\}\n",
    "\\s+\n",
    "(?P<bytes>\\d+)\n",
    "\\s+\n",
    "\"(?P<user_agent>.*)\"\n",
    "\\s+\n",
    "(?P<ip>.*)$'''"
   ]
  },
  {
   "cell_type": "code",
   "execution_count": 48,
   "id": "eae98ae5",
   "metadata": {},
   "outputs": [
    {
     "data": {
      "text/html": [
       "<div>\n",
       "<style scoped>\n",
       "    .dataframe tbody tr th:only-of-type {\n",
       "        vertical-align: middle;\n",
       "    }\n",
       "\n",
       "    .dataframe tbody tr th {\n",
       "        vertical-align: top;\n",
       "    }\n",
       "\n",
       "    .dataframe thead th {\n",
       "        text-align: right;\n",
       "    }\n",
       "</style>\n",
       "<table border=\"1\" class=\"dataframe\">\n",
       "  <thead>\n",
       "    <tr style=\"text-align: right;\">\n",
       "      <th></th>\n",
       "      <th>method</th>\n",
       "      <th>path</th>\n",
       "      <th>timestamp</th>\n",
       "      <th>http_version</th>\n",
       "      <th>status</th>\n",
       "      <th>bytes</th>\n",
       "      <th>user_agent</th>\n",
       "      <th>ip</th>\n",
       "    </tr>\n",
       "  </thead>\n",
       "  <tbody>\n",
       "    <tr>\n",
       "      <th>0</th>\n",
       "      <td>GET</td>\n",
       "      <td>/api/v1/sales?page=86</td>\n",
       "      <td>16/Apr/2019:193452+0000</td>\n",
       "      <td>HTTP/1.1</td>\n",
       "      <td>200</td>\n",
       "      <td>510348</td>\n",
       "      <td>python-requests/2.21.0</td>\n",
       "      <td>97.105.19.58</td>\n",
       "    </tr>\n",
       "    <tr>\n",
       "      <th>1</th>\n",
       "      <td>POST</td>\n",
       "      <td>/users_accounts/file-upload</td>\n",
       "      <td>16/Apr/2019:193452+0000</td>\n",
       "      <td>HTTP/1.1</td>\n",
       "      <td>201</td>\n",
       "      <td>42</td>\n",
       "      <td>User-Agent: Mozilla/5.0 (X11; Fedora; Fedora; ...</td>\n",
       "      <td>97.105.19.58</td>\n",
       "    </tr>\n",
       "    <tr>\n",
       "      <th>2</th>\n",
       "      <td>GET</td>\n",
       "      <td>/api/v1/items?page=3</td>\n",
       "      <td>16/Apr/2019:193453+0000</td>\n",
       "      <td>HTTP/1.1</td>\n",
       "      <td>429</td>\n",
       "      <td>3561</td>\n",
       "      <td>python-requests/2.21.0</td>\n",
       "      <td>97.105.19.58</td>\n",
       "    </tr>\n",
       "  </tbody>\n",
       "</table>\n",
       "</div>"
      ],
      "text/plain": [
       "  method                         path                timestamp http_version  \\\n",
       "0    GET        /api/v1/sales?page=86  16/Apr/2019:193452+0000     HTTP/1.1   \n",
       "1   POST  /users_accounts/file-upload  16/Apr/2019:193452+0000     HTTP/1.1   \n",
       "2    GET         /api/v1/items?page=3  16/Apr/2019:193453+0000     HTTP/1.1   \n",
       "\n",
       "  status   bytes                                         user_agent  \\\n",
       "0    200  510348                             python-requests/2.21.0   \n",
       "1    201      42  User-Agent: Mozilla/5.0 (X11; Fedora; Fedora; ...   \n",
       "2    429    3561                             python-requests/2.21.0   \n",
       "\n",
       "             ip  \n",
       "0  97.105.19.58  \n",
       "1  97.105.19.58  \n",
       "2  97.105.19.58  "
      ]
     },
     "execution_count": 48,
     "metadata": {},
     "output_type": "execute_result"
    }
   ],
   "source": [
    "lines = pd.Series([\n",
    "    'GET /api/v1/sales?page=86 [16/Apr/2019:193452+0000] HTTP/1.1 {200} 510348 \"python-requests/2.21.0\" 97.105.19.58',\n",
    "    'POST /users_accounts/file-upload [16/Apr/2019:193452+0000] HTTP/1.1 {201} 42 \"User-Agent: Mozilla/5.0 (X11; Fedora; Fedora; Linux x86_64) AppleWebKit/537.36 (KHTML, like Gecko) Chrome/73.0.3683.86 Safari/537.36\" 97.105.19.58',\n",
    "    'GET /api/v1/items?page=3 [16/Apr/2019:193453+0000] HTTP/1.1 {429} 3561 \"python-requests/2.21.0\" 97.105.19.58',\n",
    "])\n",
    "lines.str.extract(logfile_re, re.VERBOSE)"
   ]
  },
  {
   "cell_type": "code",
   "execution_count": null,
   "id": "58d80bbc",
   "metadata": {},
   "outputs": [],
   "source": []
  }
 ],
 "metadata": {
  "kernelspec": {
   "display_name": "Python 3 (ipykernel)",
   "language": "python",
   "name": "python3"
  },
  "language_info": {
   "codemirror_mode": {
    "name": "ipython",
    "version": 3
   },
   "file_extension": ".py",
   "mimetype": "text/x-python",
   "name": "python",
   "nbconvert_exporter": "python",
   "pygments_lexer": "ipython3",
   "version": "3.9.7"
  }
 },
 "nbformat": 4,
 "nbformat_minor": 5
}
