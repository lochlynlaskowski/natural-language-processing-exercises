{
 "cells": [
  {
   "cell_type": "code",
   "execution_count": 1,
   "id": "5cd236d6",
   "metadata": {},
   "outputs": [
    {
     "name": "stdout",
     "output_type": "stream",
     "text": [
      "showing info https://raw.githubusercontent.com/nltk/nltk_data/gh-pages/index.xml\n"
     ]
    }
   ],
   "source": [
    "import acquire\n",
    "import pandas as pd\n",
    "import unicodedata\n",
    "import re\n",
    "import json\n",
    "import nltk\n",
    "nltk.download()\n",
    "from nltk.tokenize.toktok import ToktokTokenizer\n",
    "from nltk.corpus import stopwords"
   ]
  },
  {
   "cell_type": "markdown",
   "id": "67063351",
   "metadata": {},
   "source": [
    "### Define a function named basic_clean. It should take in a string and apply some basic text cleaning to it:\n",
    "\n",
    "- Lowercase everything\n",
    "- Normalize unicode characters\n",
    "- Replace anything that is not a letter, number, whitespace or a single quote."
   ]
  },
  {
   "cell_type": "code",
   "execution_count": 2,
   "id": "9070f6cf",
   "metadata": {},
   "outputs": [],
   "source": [
    "def basic_clean(string):\n",
    "    string = string.lower()\n",
    "    string = unicodedata.normalize('NFKD', string).encode('ascii', 'ignore').decode('utf-8', 'ignore')\n",
    "    # remove anything that is not a through z, a number, a single quote, or whitespace\n",
    "    string = re.sub(r\"[^a-z0-9'\\s]\", '', string)\n",
    "    return string"
   ]
  },
  {
   "cell_type": "code",
   "execution_count": 3,
   "id": "f21ba2c6",
   "metadata": {},
   "outputs": [],
   "source": [
    "sample = 'My name is Christopher John Francis Boone. I know all the countries of the world and their capital cities and every prime number up to 7,057.'\n",
    "sample = basic_clean(sample)"
   ]
  },
  {
   "cell_type": "markdown",
   "id": "7672921a",
   "metadata": {},
   "source": [
    "### Define a function named tokenize. It should take in a string and tokenize all the words in the string."
   ]
  },
  {
   "cell_type": "code",
   "execution_count": 4,
   "id": "58d9a8a4",
   "metadata": {},
   "outputs": [],
   "source": [
    "def tokenize(string):\n",
    "    tokenizer = nltk.tokenize.ToktokTokenizer()\n",
    "    return tokenizer.tokenize(string, return_str=True)"
   ]
  },
  {
   "cell_type": "code",
   "execution_count": 5,
   "id": "c8879a61",
   "metadata": {},
   "outputs": [
    {
     "data": {
      "text/plain": [
       "'my name is christopher john francis boone i know all the countries of the world and their capital cities and every prime number up to 7057'"
      ]
     },
     "execution_count": 5,
     "metadata": {},
     "output_type": "execute_result"
    }
   ],
   "source": [
    "tokenize(sample)"
   ]
  },
  {
   "cell_type": "markdown",
   "id": "e3a04af5",
   "metadata": {},
   "source": [
    "### Define a function named stem. It should accept some text and return the text after applying stemming to all the words."
   ]
  },
  {
   "cell_type": "code",
   "execution_count": 6,
   "id": "f60fb6ef",
   "metadata": {},
   "outputs": [],
   "source": [
    "def stem(string):\n",
    "    # Create the nltk stemmer object, then use it\n",
    "    ps = nltk.porter.PorterStemmer()\n",
    "    stems = [ps.stem(word) for word in sample.split()]\n",
    "    sample_stemmed = ' '.join(stems)\n",
    "    print(sample_stemmed)"
   ]
  },
  {
   "cell_type": "code",
   "execution_count": 7,
   "id": "c099d435",
   "metadata": {},
   "outputs": [
    {
     "name": "stdout",
     "output_type": "stream",
     "text": [
      "my name is christoph john franci boon i know all the countri of the world and their capit citi and everi prime number up to 7057\n"
     ]
    }
   ],
   "source": [
    "stem(sample)"
   ]
  },
  {
   "cell_type": "markdown",
   "id": "cafec860",
   "metadata": {},
   "source": [
    "### Define a function named lemmatize. It should accept some text and return the text after applying lemmatization to each word."
   ]
  },
  {
   "cell_type": "code",
   "execution_count": 8,
   "id": "1d8db42b",
   "metadata": {},
   "outputs": [],
   "source": [
    "def lemmatize(string):\n",
    "    wnl = nltk.stem.WordNetLemmatizer()\n",
    "    lemmas = [wnl.lemmatize(word) for word in string.split()]\n",
    "    return ' '.join(lemmas)"
   ]
  },
  {
   "cell_type": "code",
   "execution_count": 9,
   "id": "01d51d7e",
   "metadata": {},
   "outputs": [
    {
     "data": {
      "text/plain": [
       "'my name is christopher john francis boone i know all the country of the world and their capital city and every prime number up to 7057'"
      ]
     },
     "execution_count": 9,
     "metadata": {},
     "output_type": "execute_result"
    }
   ],
   "source": [
    "lemmatize(sample)"
   ]
  },
  {
   "cell_type": "markdown",
   "id": "42d65e94",
   "metadata": {},
   "source": [
    "### Define a function named remove_stopwords. It should accept some text and return the text after removing all the stopwords.\n",
    "\n",
    "This function should define two optional parameters, extra_words and exclude_words. These parameters should define any additional stop words to include, and any words that we don't want to remove."
   ]
  },
  {
   "cell_type": "code",
   "execution_count": 16,
   "id": "85888cfa",
   "metadata": {},
   "outputs": [],
   "source": [
    "def remove_stopwords(string, extra_words = None, exclude_words = None):\n",
    "    stopword_list = stopwords.words('english')\n",
    "    if extra_words != None:\n",
    "        stopword_list = stopword_list.append(extrawords)\n",
    "    if exclude_words != None:\n",
    "        stopword_list = stopword_list.remove(exclude_words)\n",
    "    words = string.split()\n",
    "    filtered_words = [word for word in words if word not in stopword_list]\n",
    "    return ' '.join(filtered_words)"
   ]
  },
  {
   "cell_type": "code",
   "execution_count": 18,
   "id": "a679ea9a",
   "metadata": {},
   "outputs": [
    {
     "data": {
      "text/plain": [
       "'name christopher john francis boone know countries world capital cities every prime number 7057'"
      ]
     },
     "execution_count": 18,
     "metadata": {},
     "output_type": "execute_result"
    }
   ],
   "source": [
    "remove_stopwords(sample)"
   ]
  },
  {
   "cell_type": "code",
   "execution_count": null,
   "id": "9be556bf",
   "metadata": {},
   "outputs": [],
   "source": []
  }
 ],
 "metadata": {
  "kernelspec": {
   "display_name": "Python 3 (ipykernel)",
   "language": "python",
   "name": "python3"
  },
  "language_info": {
   "codemirror_mode": {
    "name": "ipython",
    "version": 3
   },
   "file_extension": ".py",
   "mimetype": "text/x-python",
   "name": "python",
   "nbconvert_exporter": "python",
   "pygments_lexer": "ipython3",
   "version": "3.9.7"
  }
 },
 "nbformat": 4,
 "nbformat_minor": 5
}
